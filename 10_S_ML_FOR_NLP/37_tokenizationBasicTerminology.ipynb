{
 "cells": [
  {
   "cell_type": "markdown",
   "id": "b909ef99",
   "metadata": {},
   "source": [
    "### Tokenization In NLP"
   ]
  },
  {
   "cell_type": "code",
   "execution_count": null,
   "id": "acb6d75a",
   "metadata": {},
   "outputs": [],
   "source": [
    "## Topics\n",
    "\n",
    "## 1> Corpus => Paragraph\n",
    "## 2> Documents => Sentences\n",
    "## 3> Vocabulary => Unique Words\n",
    "## 4> Words => words present in corpus"
   ]
  },
  {
   "cell_type": "code",
   "execution_count": null,
   "id": "1662bc4a",
   "metadata": {},
   "outputs": [],
   "source": [
    "## Tokenization\n",
    "## paragraph => tokens(sentences) => tokens(words)"
   ]
  },
  {
   "cell_type": "code",
   "execution_count": null,
   "id": "f72f5104",
   "metadata": {},
   "outputs": [],
   "source": []
  }
 ],
 "metadata": {
  "kernelspec": {
   "display_name": "Python 3",
   "language": "python",
   "name": "python3"
  },
  "language_info": {
   "name": "python",
   "version": "3.12.4"
  }
 },
 "nbformat": 4,
 "nbformat_minor": 5
}
