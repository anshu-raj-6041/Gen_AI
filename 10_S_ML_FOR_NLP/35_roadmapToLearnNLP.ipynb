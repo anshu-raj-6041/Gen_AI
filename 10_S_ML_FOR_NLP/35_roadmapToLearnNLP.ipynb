{
 "cells": [
  {
   "cell_type": "code",
   "execution_count": 1,
   "id": "5af4d9a5",
   "metadata": {},
   "outputs": [],
   "source": [
    "## NLP (Natural Language Processing)\n",
    "## Ex :: alexa, google home"
   ]
  },
  {
   "cell_type": "code",
   "execution_count": null,
   "id": "f188016a",
   "metadata": {},
   "outputs": [],
   "source": [
    "## NLP\n",
    "\n",
    "## Top to Bottom\n",
    "## step 1> Cleaning the Input >> Text Preprocessing => Tokenization, documentization\n",
    "## step 2> Input Text -> Vectors >> Text Preprocessing_2 => BOW(Bag Of Woods), TIDF, Unigram, Bigram\n",
    "## step 3> Input Text -> Vectors >> Text Preprocessing_3 => Word2Vec, AvgWord2Vec\n",
    "## step 4> Neural Network >> RNN, LSTM RNN, GRU RNN (Deep Learning :: library => tensorflow, pytorch)\n",
    "## step 5> Text Preprocessing -> Word Embedding \n",
    "## step 6> Transformer \n",
    "## step 7> BERT"
   ]
  }
 ],
 "metadata": {
  "kernelspec": {
   "display_name": "Python 3",
   "language": "python",
   "name": "python3"
  },
  "language_info": {
   "codemirror_mode": {
    "name": "ipython",
    "version": 3
   },
   "file_extension": ".py",
   "mimetype": "text/x-python",
   "name": "python",
   "nbconvert_exporter": "python",
   "pygments_lexer": "ipython3",
   "version": "3.12.4"
  }
 },
 "nbformat": 4,
 "nbformat_minor": 5
}
