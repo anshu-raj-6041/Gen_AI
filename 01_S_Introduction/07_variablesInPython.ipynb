{
 "cells": [
  {
   "cell_type": "markdown",
   "id": "bb2452ba",
   "metadata": {},
   "source": [
    "### Variables\n",
    "Variables are fundamental elements in programming used to store data that can be referenced and manipulated in a program.\n",
    "In Python, variables are created when u assign a value to them and they do not need explicit declaration to reserve memory space."
   ]
  },
  {
   "cell_type": "code",
   "execution_count": 3,
   "id": "314ff933",
   "metadata": {},
   "outputs": [
    {
     "name": "stdout",
     "output_type": "stream",
     "text": [
      "age : 32\n",
      "height : 6.1\n",
      "name : Anshu\n"
     ]
    }
   ],
   "source": [
    "## Declaring and Assigning variables\n",
    "\n",
    "age = 32\n",
    "height = 6.1\n",
    "name = \"Anshu\"\n",
    "is_student = True\n",
    "\n",
    "print(\"age :\", age)\n",
    "print(\"height :\", height)\n",
    "print(\"name :\", name)"
   ]
  },
  {
   "cell_type": "code",
   "execution_count": null,
   "id": "d7572126",
   "metadata": {},
   "outputs": [],
   "source": [
    "## Naming Conventions\n",
    "## Variable name should be descriptive\n",
    "## They must start with a letter or '_' and contains letters, no and underscores (don't start with no, sc)\n",
    "## Variable names are case sensitive\n",
    "\n",
    "first_name = \"Narendra\"\n",
    "last_name = \"Modi\""
   ]
  },
  {
   "cell_type": "code",
   "execution_count": 5,
   "id": "016320d4",
   "metadata": {},
   "outputs": [
    {
     "data": {
      "text/plain": [
       "False"
      ]
     },
     "execution_count": 5,
     "metadata": {},
     "output_type": "execute_result"
    }
   ],
   "source": [
    "## case sensitivity\n",
    "\n",
    "name = \"Elon\"\n",
    "Name = \"Musk\"\n",
    "\n",
    "name == Name"
   ]
  },
  {
   "cell_type": "code",
   "execution_count": 7,
   "id": "1c68b5f5",
   "metadata": {},
   "outputs": [
    {
     "name": "stdout",
     "output_type": "stream",
     "text": [
      "<class 'int'>\n",
      "<class 'float'>\n",
      "<class 'str'>\n",
      "<class 'bool'>\n"
     ]
    }
   ],
   "source": [
    "## Understanding Variables types\n",
    "## Python is dynamically typed, type of variable is determined at runtime\n",
    "\n",
    "age = 20\n",
    "height = 6.1\n",
    "name = \"Arvind\"\n",
    "is_student = True   \n",
    "\n",
    "print(type(age))\n",
    "print(type(height))\n",
    "print(type(name))\n",
    "print(type(is_student))"
   ]
  },
  {
   "cell_type": "code",
   "execution_count": 8,
   "id": "c4596870",
   "metadata": {},
   "outputs": [
    {
     "data": {
      "text/plain": [
       "float"
      ]
     },
     "execution_count": 8,
     "metadata": {},
     "output_type": "execute_result"
    }
   ],
   "source": [
    "## Type Checking and Conversion\n",
    "\n",
    "type(height)"
   ]
  },
  {
   "cell_type": "code",
   "execution_count": 10,
   "id": "39eaf4b8",
   "metadata": {},
   "outputs": [
    {
     "name": "stdout",
     "output_type": "stream",
     "text": [
      "<class 'int'>\n",
      "40\n",
      "<class 'str'>\n"
     ]
    }
   ],
   "source": [
    "age = 40\n",
    "print(type(age))\n",
    "\n",
    "## Type Conversion\n",
    "age_str = str(age)\n",
    "print(age_str)\n",
    "print(type(age_str))"
   ]
  },
  {
   "cell_type": "code",
   "execution_count": 12,
   "id": "6c084b87",
   "metadata": {},
   "outputs": [
    {
     "name": "stdout",
     "output_type": "stream",
     "text": [
      "25\n",
      "<class 'int'>\n"
     ]
    }
   ],
   "source": [
    "age = \"25\"\n",
    "\n",
    "age_int = int(age)\n",
    "print(age_int)\n",
    "print(type(age_int))"
   ]
  },
  {
   "cell_type": "code",
   "execution_count": 16,
   "id": "49640c2a",
   "metadata": {},
   "outputs": [
    {
     "data": {
      "text/plain": [
       "float"
      ]
     },
     "execution_count": 16,
     "metadata": {},
     "output_type": "execute_result"
    }
   ],
   "source": [
    "height = 5.11\n",
    "type(height)"
   ]
  },
  {
   "cell_type": "code",
   "execution_count": 19,
   "id": "8c328387",
   "metadata": {},
   "outputs": [
    {
     "data": {
      "text/plain": [
       "int"
      ]
     },
     "execution_count": 19,
     "metadata": {},
     "output_type": "execute_result"
    }
   ],
   "source": [
    "int(height)\n",
    "type(int(height))"
   ]
  },
  {
   "cell_type": "code",
   "execution_count": 22,
   "id": "fb5c3f6a",
   "metadata": {},
   "outputs": [
    {
     "name": "stdout",
     "output_type": "stream",
     "text": [
      "25 <class 'int'>\n",
      "Hello <class 'str'>\n",
      "3.14 <class 'float'>\n"
     ]
    }
   ],
   "source": [
    "## Dynamic Typing\n",
    "## Python allows the type of variable to change as the program executes\n",
    "\n",
    "var = 25\n",
    "print(var, type(var))\n",
    "\n",
    "var = \"Hello\"\n",
    "print(var, type(var))\n",
    "\n",
    "var = 3.14\n",
    "print(var, type(var))"
   ]
  },
  {
   "cell_type": "code",
   "execution_count": 25,
   "id": "258a7f99",
   "metadata": {},
   "outputs": [
    {
     "name": "stdout",
     "output_type": "stream",
     "text": [
      "30 <class 'int'>\n"
     ]
    }
   ],
   "source": [
    "## input\n",
    "\n",
    "age = int(input(\"Enter ur age:\"))\n",
    "print(age, type(age))"
   ]
  },
  {
   "cell_type": "code",
   "execution_count": 26,
   "id": "5c455c43",
   "metadata": {},
   "outputs": [
    {
     "name": "stdout",
     "output_type": "stream",
     "text": [
      "Sum : 30.0\n",
      "Difference : 20.0\n",
      "Product : 125.0\n",
      "Divison : 5.0\n"
     ]
    }
   ],
   "source": [
    "## Simple Calculator\n",
    "num1 = float(input(\"Enter the first no\"))\n",
    "num2 = float(input(\"Enter the second no\"))\n",
    "\n",
    "sum = num1 + num2\n",
    "diff = num1 - num2\n",
    "multiply = num1 * num2\n",
    "divison = num1 / num2\n",
    "\n",
    "print(\"Sum :\", sum)\n",
    "print(\"Difference :\", diff)\n",
    "print(\"Product :\", multiply)\n",
    "print(\"Divison :\", divison)"
   ]
  },
  {
   "cell_type": "code",
   "execution_count": null,
   "id": "477c1ad5",
   "metadata": {},
   "outputs": [],
   "source": []
  }
 ],
 "metadata": {
  "kernelspec": {
   "display_name": "Python 3",
   "language": "python",
   "name": "python3"
  },
  "language_info": {
   "codemirror_mode": {
    "name": "ipython",
    "version": 3
   },
   "file_extension": ".py",
   "mimetype": "text/x-python",
   "name": "python",
   "nbconvert_exporter": "python",
   "pygments_lexer": "ipython3",
   "version": "3.12.4"
  }
 },
 "nbformat": 4,
 "nbformat_minor": 5
}
