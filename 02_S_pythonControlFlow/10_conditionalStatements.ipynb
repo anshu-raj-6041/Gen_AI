{
 "cells": [
  {
   "cell_type": "markdown",
   "id": "fef88ef9",
   "metadata": {},
   "source": [
    "### Conditional Statements (if, elif, else)"
   ]
  },
  {
   "cell_type": "code",
   "execution_count": 4,
   "id": "2d25c850",
   "metadata": {},
   "outputs": [
    {
     "name": "stdout",
     "output_type": "stream",
     "text": [
      "U can vote\n"
     ]
    }
   ],
   "source": [
    "## if statement\n",
    "\n",
    "age = 20\n",
    "\n",
    "if age>=18:\n",
    "    print(\"U can vote\")"
   ]
  },
  {
   "cell_type": "code",
   "execution_count": 5,
   "id": "c728d89e",
   "metadata": {},
   "outputs": [
    {
     "data": {
      "text/plain": [
       "True"
      ]
     },
     "execution_count": 5,
     "metadata": {},
     "output_type": "execute_result"
    }
   ],
   "source": [
    "age>=18"
   ]
  },
  {
   "cell_type": "code",
   "execution_count": 7,
   "id": "4cf58d1f",
   "metadata": {},
   "outputs": [
    {
     "name": "stdout",
     "output_type": "stream",
     "text": [
      "U are a minor\n"
     ]
    }
   ],
   "source": [
    "## else\n",
    "age = 15\n",
    "\n",
    "if age>=18:\n",
    "    print(\"U can vote\")\n",
    "else:\n",
    "    print(\"U are a minor\")"
   ]
  },
  {
   "cell_type": "code",
   "execution_count": 10,
   "id": "7438be05",
   "metadata": {},
   "outputs": [
    {
     "name": "stdout",
     "output_type": "stream",
     "text": [
      "U are a teenager\n"
     ]
    }
   ],
   "source": [
    "## elif statement\n",
    "## The elif statement allows us to check multiple conditions. It stands for \"else if\"\n",
    "age = 16\n",
    "\n",
    "if age<13:\n",
    "    print(\"U are a child\")\n",
    "elif age<18:\n",
    "    print(\"U are a teenager\")\n",
    "else:\n",
    "    print(\"U are a adult\")"
   ]
  },
  {
   "cell_type": "code",
   "execution_count": 14,
   "id": "f38616cc",
   "metadata": {},
   "outputs": [
    {
     "name": "stdout",
     "output_type": "stream",
     "text": [
      "+\n",
      "Even\n"
     ]
    }
   ],
   "source": [
    "## nested conditional statements\n",
    "num = int(input(\"Enter the no:\"))\n",
    "\n",
    "if num>0:\n",
    "    print(\"+\")\n",
    "    if num%2 == 0:\n",
    "        print(\"Even\")\n",
    "    else:\n",
    "        print(\"Odd\")\n",
    "else:\n",
    "    print(\"0 or -\")"
   ]
  },
  {
   "cell_type": "code",
   "execution_count": 20,
   "id": "1ab9afa8",
   "metadata": {},
   "outputs": [
    {
     "name": "stdout",
     "output_type": "stream",
     "text": [
      "Not a Leap Year\n"
     ]
    }
   ],
   "source": [
    "## Practical Ex\n",
    "## Determine the given year is leap year or not\n",
    "year = int(input(\"Enter the year\"))\n",
    "\n",
    "if (year%4 == 0 and year%100 != 0) or (year%400 == 0):\n",
    "    print(\"Leap Year\")\n",
    "else:\n",
    "    print(\"Not a Leap Year\")"
   ]
  },
  {
   "cell_type": "code",
   "execution_count": 19,
   "id": "8ff79d5a",
   "metadata": {},
   "outputs": [
    {
     "name": "stdout",
     "output_type": "stream",
     "text": [
      "1900 is a leap year\n"
     ]
    }
   ],
   "source": [
    "year = int(input(\"Enter the year\"))\n",
    "\n",
    "if year%4 == 0:\n",
    "    if year%100 != 0:\n",
    "        if year%400 == 0:\n",
    "            print(year, \"is a leap year\")\n",
    "        else:\n",
    "            print(year, \"is not a leap year\")\n",
    "    else:\n",
    "        print(year,\"is a leap year\")\n",
    "else:\n",
    "    print(year,\"is not a leap year\")"
   ]
  },
  {
   "cell_type": "code",
   "execution_count": null,
   "id": "b18ff308",
   "metadata": {},
   "outputs": [
    {
     "name": "stdout",
     "output_type": "stream",
     "text": [
      "Result => IO\n"
     ]
    }
   ],
   "source": [
    "## Simple Calculator using if-else\n",
    "\n",
    "num1 = float(input(\"Enter the first no:\"))\n",
    "num2 = float(input(\"Enter the second no:\"))\n",
    "op = input(\"Enter the operator (+, -, *, /)\")\n",
    "\n",
    "if op == '+':\n",
    "    result = num1+num2\n",
    "elif op == '-':\n",
    "    result = num1-num2\n",
    "elif op == '*':\n",
    "    result = num1*num2\n",
    "elif op == '/':\n",
    "    result = num1/num2\n",
    "else:\n",
    "    result = \"IO\"\n",
    "\n",
    "print(\"Result =>\", result)\n"
   ]
  },
  {
   "cell_type": "code",
   "execution_count": 8,
   "id": "d71537a4",
   "metadata": {},
   "outputs": [
    {
     "name": "stdout",
     "output_type": "stream",
     "text": [
      "$18\n"
     ]
    }
   ],
   "source": [
    "## Ticket Price\n",
    "\n",
    "age = int(input(\"Enter ur age\"))\n",
    "is_student = input(\"Are u a student (Yes/No)\")\n",
    "\n",
    "if age<5:\n",
    "    print(\"Free\")\n",
    "elif age <= 12:\n",
    "    print(\"$10\")\n",
    "elif age <= 17:\n",
    "    if is_student == \"Yes\":\n",
    "        print(\"$12\")\n",
    "    else:\n",
    "        print(\"$15\")\n",
    "elif age <= 64:\n",
    "    if is_student == \"Yes\":\n",
    "        print(\"$18\")\n",
    "    else:\n",
    "        print(\"$25\")\n",
    "else:\n",
    "    print(\"Pay full fair\")"
   ]
  },
  {
   "cell_type": "code",
   "execution_count": null,
   "id": "e7b91799",
   "metadata": {},
   "outputs": [],
   "source": []
  }
 ],
 "metadata": {
  "kernelspec": {
   "display_name": "Python 3",
   "language": "python",
   "name": "python3"
  },
  "language_info": {
   "codemirror_mode": {
    "name": "ipython",
    "version": 3
   },
   "file_extension": ".py",
   "mimetype": "text/x-python",
   "name": "python",
   "nbconvert_exporter": "python",
   "pygments_lexer": "ipython3",
   "version": "3.12.4"
  }
 },
 "nbformat": 4,
 "nbformat_minor": 5
}
